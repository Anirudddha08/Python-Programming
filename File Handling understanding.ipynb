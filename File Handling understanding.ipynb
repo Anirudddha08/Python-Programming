{
 "cells": [
  {
   "cell_type": "markdown",
   "metadata": {},
   "source": [
    "# ##File Handling"
   ]
  },
  {
   "cell_type": "markdown",
   "metadata": {},
   "source": [
    "**Reading Keyboard Input**\n",
    "\n",
    "Python provides two built-in functions to read a line of text from standard input, which by default comes from the keyboard. These functions are −\n",
    "\n",
    "    raw_input\n",
    "    input\n",
    "\n",
    "**The raw_input Function**\n",
    "\n",
    "The raw_input([prompt]) function reads one line from standard input and returns it as a string (removing the trailing newline)."
   ]
  },
  {
   "cell_type": "code",
   "execution_count": 1,
   "metadata": {
    "collapsed": false
   },
   "outputs": [
    {
     "name": "stdout",
     "output_type": "stream",
     "text": [
      "Enter your input: hi\n",
      "Received input is :  hi\n"
     ]
    }
   ],
   "source": [
    "str = raw_input(\"Enter your input: \");\n",
    "print \"Received input is : \", str"
   ]
  },
  {
   "cell_type": "markdown",
   "metadata": {},
   "source": [
    "**The input Function**"
   ]
  },
  {
   "cell_type": "code",
   "execution_count": 6,
   "metadata": {
    "collapsed": false
   },
   "outputs": [
    {
     "name": "stdout",
     "output_type": "stream",
     "text": [
      "Enter your input: [x**0.5 for x in range(0,5)]\n",
      "Received input is :  [0.0, 1.0, 1.4142135623730951, 1.7320508075688772, 2.0]\n"
     ]
    }
   ],
   "source": [
    "str = input(\"Enter your input: \");\n",
    "print \"Received input is : \", str  #[x**0.5 for x in range(0,5)]"
   ]
  },
  {
   "cell_type": "markdown",
   "metadata": {},
   "source": [
    "## Opening and Closing Files"
   ]
  },
  {
   "cell_type": "markdown",
   "metadata": {},
   "source": [
    "**Syntax**\n",
    "\n",
    "        file object = open(file_name [, access_mode][, buffering])\n"
   ]
  },
  {
   "cell_type": "markdown",
   "metadata": {},
   "source": [
    "Here are parameter details −\n",
    "\n",
    "    file_name − The file_name argument is a string value that contains the name of the file that you want to access.\n",
    "\n",
    "    access_mode − The access_mode determines the mode in which the file has to be opened, i.e., read, write, append, etc. A complete list of possible values is given below in the table. This is optional parameter and the default file access mode is read (r).\n",
    "\n",
    "    buffering − If the buffering value is set to 0, no buffering takes place. If the buffering value is 1, line buffering is performed while accessing a file. If you specify the buffering value as an integer greater than 1, then buffering action is performed with the indicated buffer size. If negative, the buffer size is the system default(default behavior).\n"
   ]
  },
  {
   "cell_type": "markdown",
   "metadata": {},
   "source": [
    "**access_mode**\n",
    "\n",
    "**r**\n",
    "\n",
    "Opens a file for reading only. The file pointer is placed at the beginning of the file. This is the default mode.\n",
    "\n",
    "**rb**\n",
    "\n",
    "Opens a file for reading only in binary format. The file pointer is placed at the beginning of the file. This is the default mode.\n",
    "\t\n",
    "\n",
    "**r+**\n",
    "\n",
    "Opens a file for both reading and writing. The file pointer placed at the beginning of the file.\n",
    "\n",
    "**rb+**\n",
    "\n",
    "Opens a file for both reading and writing in binary format. The file pointer placed at the beginning of the file.\n",
    "\n",
    "**w**\n",
    "\n",
    "Opens a file for writing only. Overwrites the file if the file exists. If the file does not exist, creates a new file for writing.\n",
    "\n",
    "**wb**\n",
    "\n",
    "Opens a file for writing only in binary format. Overwrites the file if the file exists. If the file does not exist, creates a new file for writing.\n",
    "\n",
    "**w+**\n",
    "\n",
    "Opens a file for both writing and reading. Overwrites the existing file if the file exists. If the file does not exist, creates a new file for reading and writing.\n",
    "\n",
    "**wb+**\n",
    "\n",
    "Opens a file for both writing and reading in binary format. Overwrites the existing file if the file exists. If the file does not exist, creates a new file for reading and writing.\n",
    "\n",
    "**a**\n",
    "\n",
    "Opens a file for appending. The file pointer is at the end of the file if the file exists. That is, the file is in the append mode. If the file does not exist, it creates a new file for writing.\n",
    "\n",
    "**ab**\n",
    "\n",
    "Opens a file for appending in binary format. The file pointer is at the end of the file if the file exists. That is, the file is in the append mode. If the file does not exist, it creates a new file for writing.\n",
    "\n",
    "**a+**\n",
    "\n",
    "Opens a file for both appending and reading. The file pointer is at the end of the file if the file exists. The file opens in the append mode. If the file does not exist, it creates a new file for reading and writing.\n",
    "\n",
    "**ab+**\n",
    "\n",
    "Opens a file for both appending and reading in binary format. The file pointer is at the end of the file if the file exists. The file opens in the append mode. If the file does not exist, it creates a new file for reading and writing."
   ]
  },
  {
   "cell_type": "markdown",
   "metadata": {},
   "source": [
    "The file Object Attributes\n",
    "\n",
    "Once a file is opened and you have one file object, you can get various information related to that file.\n",
    "\n",
    "Here is a list of all attributes related to file object −\n",
    "\n",
    "1 \t  file.closed --\n",
    "Returns true if file is closed, false otherwise.\n",
    "\n",
    "2 \t  file.mode --\n",
    "Returns access mode with which file was opened.\n",
    "\n",
    "3 \t  file.name --\n",
    "Returns name of the file.\n",
    "\n",
    "4 \t  file.softspace  --\n",
    "Returns false if space explicitly required with print, true otherwise."
   ]
  },
  {
   "cell_type": "code",
   "execution_count": 8,
   "metadata": {
    "collapsed": false
   },
   "outputs": [
    {
     "name": "stdout",
     "output_type": "stream",
     "text": [
      "Name of the file:  message.txt\n"
     ]
    }
   ],
   "source": [
    "fo = open(\"message.txt\", \"wb\")\n",
    "print \"Name of the file: \", fo.name\n",
    "\n",
    "# Close opend file\n",
    "fo.close()"
   ]
  },
  {
   "cell_type": "markdown",
   "metadata": {},
   "source": [
    "## Reading and Writing Files"
   ]
  },
  {
   "cell_type": "markdown",
   "metadata": {},
   "source": [
    "**The write() Method**\n",
    "\n",
    "Syntax\n",
    "\n",
    "fileObject.write(string);\n"
   ]
  },
  {
   "cell_type": "code",
   "execution_count": 9,
   "metadata": {
    "collapsed": true
   },
   "outputs": [],
   "source": [
    "# Open a file\n",
    "fo = open(\"test.txt\", \"wb\")\n",
    "fo.write( \"Python is a great language.\\nYeah its great!!\\n\");\n",
    "\n",
    "# Close opend file\n",
    "fo.close()"
   ]
  },
  {
   "cell_type": "markdown",
   "metadata": {},
   "source": [
    "**The read() Method**"
   ]
  },
  {
   "cell_type": "markdown",
   "metadata": {},
   "source": [
    "Syntax\n",
    "\n",
    "fileObject.read([count]);\n"
   ]
  },
  {
   "cell_type": "code",
   "execution_count": 17,
   "metadata": {
    "collapsed": false
   },
   "outputs": [
    {
     "name": "stdout",
     "output_type": "stream",
     "text": [
      "Read String is :  In this paper, we propose a novel three-layer Gabor-based extreme learning machine (GaborELM) model for heterogeneous face recognition. The proposed input layer propagates a geometrically localized image sub-block (of image pixels) to each 40 hidden node in the hidden layer. In other words, each hidden node corresponds to a different sub-image block (see Fig. 1). Each propagated image block is then convolved with a set of Gabor kernels by means of vector projection followed by a magnitude function, a randomly weighted summation and a nonlinear activation function operations. The hidden node outputs are finally incorporated with a deterministically learned output weights layer to yield the final decision.\n",
      "\n"
     ]
    }
   ],
   "source": [
    "# Open a file\n",
    "fo = open(\"message.txt\", \"r+\")\n",
    "str = fo.read(1000);\n",
    "print \"Read String is : \", str\n",
    "# Close opend file\n",
    "fo.close()"
   ]
  },
  {
   "cell_type": "markdown",
   "metadata": {},
   "source": [
    "**File Positions**"
   ]
  },
  {
   "cell_type": "code",
   "execution_count": null,
   "metadata": {
    "collapsed": true
   },
   "outputs": [],
   "source": [
    "# Open a file\n",
    "fo = open(\"test.txt\", \"r+\")\n",
    "str = fo.read(100);\n",
    "print \"Read String is : \", str\n",
    "\n",
    "# Check current position\n",
    "position = fo.tell();\n",
    "print \"Current file position : \", position\n",
    "\n",
    "# Reposition pointer at the beginning once again\n",
    "position = fo.seek(0, 0);\n",
    "str = fo.read(10);\n",
    "print \"Again read String is : \", str\n",
    "# Close opend file\n",
    "fo.close()"
   ]
  },
  {
   "cell_type": "markdown",
   "metadata": {},
   "source": [
    "**Renaming and Deleting Files**\n",
    "\n",
    "The rename() Method\n",
    "\n",
    "The rename() method takes two arguments, the current filename and the new filename.\n",
    "\n",
    "*Syntax*\n",
    "\n",
    "*os.rename(current_file_name, new_file_name)*\n"
   ]
  },
  {
   "cell_type": "code",
   "execution_count": 25,
   "metadata": {
    "collapsed": false
   },
   "outputs": [],
   "source": [
    "#!/usr/bin/python\n",
    "import os\n",
    "# Rename a file from test1.txt to test2.txt\n",
    "os.rename( \"test2.txt\", \"test1.txt\" )"
   ]
  },
  {
   "cell_type": "markdown",
   "metadata": {},
   "source": [
    "### The remove() Method\n",
    "\n",
    "\n",
    "method to delete files by supplying the name of the file to be deleted as the argument.\n",
    "\n",
    "Syntax\n",
    "\n",
    "** os.remove(file_name) **\n"
   ]
  },
  {
   "cell_type": "code",
   "execution_count": null,
   "metadata": {
    "collapsed": true
   },
   "outputs": [],
   "source": [
    "import os\n",
    "\n",
    "# Delete file test2.txt\n",
    "os.remove(\"text2.txt\")"
   ]
  },
  {
   "cell_type": "markdown",
   "metadata": {},
   "source": [
    "## Directories in Python\n",
    "\n",
    "All files are contained within various directories, and Python has no problem handling these too. The os module has several methods that help you create, remove, and change directories.\n",
    "\n",
    "### The mkdir() Method\n",
    "\n",
    "You can use the mkdir() method of the os module to create directories in the current directory. You need to supply an argument to this method which contains the name of the directory to be created.\n",
    "\n",
    "\n",
    "Syntax\n",
    "\n",
    "*os.mkdir(\"newdir\")*"
   ]
  },
  {
   "cell_type": "code",
   "execution_count": 31,
   "metadata": {
    "collapsed": false
   },
   "outputs": [],
   "source": [
    "#!/usr/bin/python\n",
    "import os\n",
    "\n",
    "# Create a directory \"test\"\n",
    "os.mkdir(\"M_div\")"
   ]
  },
  {
   "cell_type": "markdown",
   "metadata": {},
   "source": [
    "### The chdir() Method\n",
    "\n",
    "You can use the chdir() method to change the current directory. The chdir() method takes an argument, which is the name of the directory that you want to make the current directory.\n",
    "\n",
    "Syntax\n",
    "\n",
    "**os.chdir(\"newdir\")**\n"
   ]
  },
  {
   "cell_type": "code",
   "execution_count": 30,
   "metadata": {
    "collapsed": false
   },
   "outputs": [],
   "source": [
    "#!/usr/bin/python\n",
    "import os\n",
    "\n",
    "# Changing a directory to \"/home/newdir\"\n",
    "os.chdir(\"/home/sujit/M_div\")"
   ]
  },
  {
   "cell_type": "markdown",
   "metadata": {},
   "source": [
    "### The getcwd() Method\n",
    "\n",
    "The getcwd() method displays the current working directory.\n",
    "\n",
    "Syntax\n",
    "\n",
    "**os.getcwd()**\n",
    "\n"
   ]
  },
  {
   "cell_type": "code",
   "execution_count": 32,
   "metadata": {
    "collapsed": false
   },
   "outputs": [
    {
     "data": {
      "text/plain": [
       "'/home/sujit/M_div'"
      ]
     },
     "execution_count": 32,
     "metadata": {},
     "output_type": "execute_result"
    }
   ],
   "source": [
    "import os\n",
    "\n",
    "# This would give location of the current directory\n",
    "os.getcwd()"
   ]
  },
  {
   "cell_type": "markdown",
   "metadata": {},
   "source": [
    "### The rmdir() Method\n",
    "\n",
    "The rmdir() method deletes the directory, which is passed as an argument in the method.\n",
    "\n",
    "Before removing a directory, all the contents in it should be removed.\n",
    "\n",
    "Syntax\n",
    "\n",
    "**os.rmdir('dirname')**\n"
   ]
  },
  {
   "cell_type": "code",
   "execution_count": 35,
   "metadata": {
    "collapsed": false
   },
   "outputs": [],
   "source": [
    "import os\n",
    "\n",
    "# This would  remove \"/tmp/test\"  directory.\n",
    "os.rmdir( \"/home/sujit/M_div\"  )"
   ]
  },
  {
   "cell_type": "markdown",
   "metadata": {},
   "source": [
    "## Thanks to \n",
    "### Reference : Python Tutorials Point"
   ]
  },
  {
   "cell_type": "code",
   "execution_count": null,
   "metadata": {
    "collapsed": true
   },
   "outputs": [],
   "source": []
  }
 ],
 "metadata": {
  "kernelspec": {
   "display_name": "Python 2",
   "language": "python",
   "name": "python2"
  },
  "language_info": {
   "codemirror_mode": {
    "name": "ipython",
    "version": 2
   },
   "file_extension": ".py",
   "mimetype": "text/x-python",
   "name": "python",
   "nbconvert_exporter": "python",
   "pygments_lexer": "ipython2",
   "version": "2.7.13"
  }
 },
 "nbformat": 4,
 "nbformat_minor": 2
}
