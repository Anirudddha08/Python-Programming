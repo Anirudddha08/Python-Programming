{
  "nbformat": 4,
  "nbformat_minor": 0,
  "metadata": {
    "colab": {
      "provenance": [],
      "include_colab_link": true
    },
    "kernelspec": {
      "name": "python3",
      "display_name": "Python 3"
    },
    "language_info": {
      "name": "python"
    }
  },
  "cells": [
    {
      "cell_type": "markdown",
      "metadata": {
        "id": "view-in-github",
        "colab_type": "text"
      },
      "source": [
        "<a href=\"https://colab.research.google.com/github/Anirudddha08/Python-Programming/blob/master/Covid-Dashboard.ipynb\" target=\"_parent\"><img src=\"https://colab.research.google.com/assets/colab-badge.svg\" alt=\"Open In Colab\"/></a>"
      ]
    },
    {
      "cell_type": "code",
      "metadata": {
        "id": "33p7eLRqprIq",
        "colab": {
          "base_uri": "https://localhost:8080/"
        },
        "outputId": "c024e6ac-3a57-473d-d4a1-fb9abd5cd53e"
      },
      "source": [
        "pip install streamlit"
      ],
      "execution_count": null,
      "outputs": [
        {
          "output_type": "stream",
          "name": "stdout",
          "text": [
            "Collecting streamlit\n",
            "  Downloading streamlit-1.45.0-py3-none-any.whl.metadata (8.9 kB)\n",
            "Requirement already satisfied: altair<6,>=4.0 in /usr/local/lib/python3.11/dist-packages (from streamlit) (5.5.0)\n",
            "Requirement already satisfied: blinker<2,>=1.5.0 in /usr/local/lib/python3.11/dist-packages (from streamlit) (1.9.0)\n",
            "Requirement already satisfied: cachetools<6,>=4.0 in /usr/local/lib/python3.11/dist-packages (from streamlit) (5.5.2)\n",
            "Requirement already satisfied: click<9,>=7.0 in /usr/local/lib/python3.11/dist-packages (from streamlit) (8.1.8)\n",
            "Requirement already satisfied: numpy<3,>=1.23 in /usr/local/lib/python3.11/dist-packages (from streamlit) (2.0.2)\n",
            "Requirement already satisfied: packaging<25,>=20 in /usr/local/lib/python3.11/dist-packages (from streamlit) (24.2)\n",
            "Requirement already satisfied: pandas<3,>=1.4.0 in /usr/local/lib/python3.11/dist-packages (from streamlit) (2.2.2)\n",
            "Requirement already satisfied: pillow<12,>=7.1.0 in /usr/local/lib/python3.11/dist-packages (from streamlit) (11.2.1)\n",
            "Requirement already satisfied: protobuf<7,>=3.20 in /usr/local/lib/python3.11/dist-packages (from streamlit) (5.29.4)\n",
            "Requirement already satisfied: pyarrow>=7.0 in /usr/local/lib/python3.11/dist-packages (from streamlit) (18.1.0)\n",
            "Requirement already satisfied: requests<3,>=2.27 in /usr/local/lib/python3.11/dist-packages (from streamlit) (2.32.3)\n",
            "Requirement already satisfied: tenacity<10,>=8.1.0 in /usr/local/lib/python3.11/dist-packages (from streamlit) (9.1.2)\n",
            "Requirement already satisfied: toml<2,>=0.10.1 in /usr/local/lib/python3.11/dist-packages (from streamlit) (0.10.2)\n",
            "Requirement already satisfied: typing-extensions<5,>=4.4.0 in /usr/local/lib/python3.11/dist-packages (from streamlit) (4.13.2)\n",
            "Collecting watchdog<7,>=2.1.5 (from streamlit)\n",
            "  Downloading watchdog-6.0.0-py3-none-manylinux2014_x86_64.whl.metadata (44 kB)\n",
            "\u001b[2K     \u001b[90m━━━━━━━━━━━━━━━━━━━━━━━━━━━━━━━━━━━━━━━━\u001b[0m \u001b[32m44.3/44.3 kB\u001b[0m \u001b[31m1.3 MB/s\u001b[0m eta \u001b[36m0:00:00\u001b[0m\n",
            "\u001b[?25hRequirement already satisfied: gitpython!=3.1.19,<4,>=3.0.7 in /usr/local/lib/python3.11/dist-packages (from streamlit) (3.1.44)\n",
            "Collecting pydeck<1,>=0.8.0b4 (from streamlit)\n",
            "  Downloading pydeck-0.9.1-py2.py3-none-any.whl.metadata (4.1 kB)\n",
            "Requirement already satisfied: tornado<7,>=6.0.3 in /usr/local/lib/python3.11/dist-packages (from streamlit) (6.4.2)\n",
            "Requirement already satisfied: jinja2 in /usr/local/lib/python3.11/dist-packages (from altair<6,>=4.0->streamlit) (3.1.6)\n",
            "Requirement already satisfied: jsonschema>=3.0 in /usr/local/lib/python3.11/dist-packages (from altair<6,>=4.0->streamlit) (4.23.0)\n",
            "Requirement already satisfied: narwhals>=1.14.2 in /usr/local/lib/python3.11/dist-packages (from altair<6,>=4.0->streamlit) (1.37.1)\n",
            "Requirement already satisfied: gitdb<5,>=4.0.1 in /usr/local/lib/python3.11/dist-packages (from gitpython!=3.1.19,<4,>=3.0.7->streamlit) (4.0.12)\n",
            "Requirement already satisfied: python-dateutil>=2.8.2 in /usr/local/lib/python3.11/dist-packages (from pandas<3,>=1.4.0->streamlit) (2.9.0.post0)\n",
            "Requirement already satisfied: pytz>=2020.1 in /usr/local/lib/python3.11/dist-packages (from pandas<3,>=1.4.0->streamlit) (2025.2)\n",
            "Requirement already satisfied: tzdata>=2022.7 in /usr/local/lib/python3.11/dist-packages (from pandas<3,>=1.4.0->streamlit) (2025.2)\n",
            "Requirement already satisfied: charset-normalizer<4,>=2 in /usr/local/lib/python3.11/dist-packages (from requests<3,>=2.27->streamlit) (3.4.1)\n",
            "Requirement already satisfied: idna<4,>=2.5 in /usr/local/lib/python3.11/dist-packages (from requests<3,>=2.27->streamlit) (3.10)\n",
            "Requirement already satisfied: urllib3<3,>=1.21.1 in /usr/local/lib/python3.11/dist-packages (from requests<3,>=2.27->streamlit) (2.4.0)\n",
            "Requirement already satisfied: certifi>=2017.4.17 in /usr/local/lib/python3.11/dist-packages (from requests<3,>=2.27->streamlit) (2025.4.26)\n",
            "Requirement already satisfied: smmap<6,>=3.0.1 in /usr/local/lib/python3.11/dist-packages (from gitdb<5,>=4.0.1->gitpython!=3.1.19,<4,>=3.0.7->streamlit) (5.0.2)\n",
            "Requirement already satisfied: MarkupSafe>=2.0 in /usr/local/lib/python3.11/dist-packages (from jinja2->altair<6,>=4.0->streamlit) (3.0.2)\n",
            "Requirement already satisfied: attrs>=22.2.0 in /usr/local/lib/python3.11/dist-packages (from jsonschema>=3.0->altair<6,>=4.0->streamlit) (25.3.0)\n",
            "Requirement already satisfied: jsonschema-specifications>=2023.03.6 in /usr/local/lib/python3.11/dist-packages (from jsonschema>=3.0->altair<6,>=4.0->streamlit) (2025.4.1)\n",
            "Requirement already satisfied: referencing>=0.28.4 in /usr/local/lib/python3.11/dist-packages (from jsonschema>=3.0->altair<6,>=4.0->streamlit) (0.36.2)\n",
            "Requirement already satisfied: rpds-py>=0.7.1 in /usr/local/lib/python3.11/dist-packages (from jsonschema>=3.0->altair<6,>=4.0->streamlit) (0.24.0)\n",
            "Requirement already satisfied: six>=1.5 in /usr/local/lib/python3.11/dist-packages (from python-dateutil>=2.8.2->pandas<3,>=1.4.0->streamlit) (1.17.0)\n",
            "Downloading streamlit-1.45.0-py3-none-any.whl (9.9 MB)\n",
            "\u001b[2K   \u001b[90m━━━━━━━━━━━━━━━━━━━━━━━━━━━━━━━━━━━━━━━━\u001b[0m \u001b[32m9.9/9.9 MB\u001b[0m \u001b[31m39.3 MB/s\u001b[0m eta \u001b[36m0:00:00\u001b[0m\n",
            "\u001b[?25hDownloading pydeck-0.9.1-py2.py3-none-any.whl (6.9 MB)\n",
            "\u001b[2K   \u001b[90m━━━━━━━━━━━━━━━━━━━━━━━━━━━━━━━━━━━━━━━━\u001b[0m \u001b[32m6.9/6.9 MB\u001b[0m \u001b[31m41.9 MB/s\u001b[0m eta \u001b[36m0:00:00\u001b[0m\n",
            "\u001b[?25hDownloading watchdog-6.0.0-py3-none-manylinux2014_x86_64.whl (79 kB)\n",
            "\u001b[2K   \u001b[90m━━━━━━━━━━━━━━━━━━━━━━━━━━━━━━━━━━━━━━━━\u001b[0m \u001b[32m79.1/79.1 kB\u001b[0m \u001b[31m4.2 MB/s\u001b[0m eta \u001b[36m0:00:00\u001b[0m\n",
            "\u001b[?25hInstalling collected packages: watchdog, pydeck, streamlit\n",
            "Successfully installed pydeck-0.9.1 streamlit-1.45.0 watchdog-6.0.0\n"
          ]
        }
      ]
    },
    {
      "cell_type": "code",
      "metadata": {
        "id": "RSEcbAyBp9pG",
        "colab": {
          "base_uri": "https://localhost:8080/"
        },
        "outputId": "eec1e08e-6c73-4258-d42d-2b2913efb984"
      },
      "source": [
        "pip install streamlit_folium"
      ],
      "execution_count": null,
      "outputs": [
        {
          "output_type": "stream",
          "name": "stdout",
          "text": [
            "Collecting streamlit_folium\n",
            "  Downloading streamlit_folium-0.25.0-py3-none-any.whl.metadata (621 bytes)\n",
            "Requirement already satisfied: streamlit>=1.35.0 in /usr/local/lib/python3.11/dist-packages (from streamlit_folium) (1.45.0)\n",
            "Requirement already satisfied: folium!=0.15.0,>=0.13 in /usr/local/lib/python3.11/dist-packages (from streamlit_folium) (0.19.5)\n",
            "Requirement already satisfied: jinja2 in /usr/local/lib/python3.11/dist-packages (from streamlit_folium) (3.1.6)\n",
            "Requirement already satisfied: branca in /usr/local/lib/python3.11/dist-packages (from streamlit_folium) (0.8.1)\n",
            "Requirement already satisfied: numpy in /usr/local/lib/python3.11/dist-packages (from folium!=0.15.0,>=0.13->streamlit_folium) (2.0.2)\n",
            "Requirement already satisfied: requests in /usr/local/lib/python3.11/dist-packages (from folium!=0.15.0,>=0.13->streamlit_folium) (2.32.3)\n",
            "Requirement already satisfied: xyzservices in /usr/local/lib/python3.11/dist-packages (from folium!=0.15.0,>=0.13->streamlit_folium) (2025.4.0)\n",
            "Requirement already satisfied: MarkupSafe>=2.0 in /usr/local/lib/python3.11/dist-packages (from jinja2->streamlit_folium) (3.0.2)\n",
            "Requirement already satisfied: altair<6,>=4.0 in /usr/local/lib/python3.11/dist-packages (from streamlit>=1.35.0->streamlit_folium) (5.5.0)\n",
            "Requirement already satisfied: blinker<2,>=1.5.0 in /usr/local/lib/python3.11/dist-packages (from streamlit>=1.35.0->streamlit_folium) (1.9.0)\n",
            "Requirement already satisfied: cachetools<6,>=4.0 in /usr/local/lib/python3.11/dist-packages (from streamlit>=1.35.0->streamlit_folium) (5.5.2)\n",
            "Requirement already satisfied: click<9,>=7.0 in /usr/local/lib/python3.11/dist-packages (from streamlit>=1.35.0->streamlit_folium) (8.1.8)\n",
            "Requirement already satisfied: packaging<25,>=20 in /usr/local/lib/python3.11/dist-packages (from streamlit>=1.35.0->streamlit_folium) (24.2)\n",
            "Requirement already satisfied: pandas<3,>=1.4.0 in /usr/local/lib/python3.11/dist-packages (from streamlit>=1.35.0->streamlit_folium) (2.2.2)\n",
            "Requirement already satisfied: pillow<12,>=7.1.0 in /usr/local/lib/python3.11/dist-packages (from streamlit>=1.35.0->streamlit_folium) (11.2.1)\n",
            "Requirement already satisfied: protobuf<7,>=3.20 in /usr/local/lib/python3.11/dist-packages (from streamlit>=1.35.0->streamlit_folium) (5.29.4)\n",
            "Requirement already satisfied: pyarrow>=7.0 in /usr/local/lib/python3.11/dist-packages (from streamlit>=1.35.0->streamlit_folium) (18.1.0)\n",
            "Requirement already satisfied: tenacity<10,>=8.1.0 in /usr/local/lib/python3.11/dist-packages (from streamlit>=1.35.0->streamlit_folium) (9.1.2)\n",
            "Requirement already satisfied: toml<2,>=0.10.1 in /usr/local/lib/python3.11/dist-packages (from streamlit>=1.35.0->streamlit_folium) (0.10.2)\n",
            "Requirement already satisfied: typing-extensions<5,>=4.4.0 in /usr/local/lib/python3.11/dist-packages (from streamlit>=1.35.0->streamlit_folium) (4.13.2)\n",
            "Requirement already satisfied: watchdog<7,>=2.1.5 in /usr/local/lib/python3.11/dist-packages (from streamlit>=1.35.0->streamlit_folium) (6.0.0)\n",
            "Requirement already satisfied: gitpython!=3.1.19,<4,>=3.0.7 in /usr/local/lib/python3.11/dist-packages (from streamlit>=1.35.0->streamlit_folium) (3.1.44)\n",
            "Requirement already satisfied: pydeck<1,>=0.8.0b4 in /usr/local/lib/python3.11/dist-packages (from streamlit>=1.35.0->streamlit_folium) (0.9.1)\n",
            "Requirement already satisfied: tornado<7,>=6.0.3 in /usr/local/lib/python3.11/dist-packages (from streamlit>=1.35.0->streamlit_folium) (6.4.2)\n",
            "Requirement already satisfied: jsonschema>=3.0 in /usr/local/lib/python3.11/dist-packages (from altair<6,>=4.0->streamlit>=1.35.0->streamlit_folium) (4.23.0)\n",
            "Requirement already satisfied: narwhals>=1.14.2 in /usr/local/lib/python3.11/dist-packages (from altair<6,>=4.0->streamlit>=1.35.0->streamlit_folium) (1.37.1)\n",
            "Requirement already satisfied: gitdb<5,>=4.0.1 in /usr/local/lib/python3.11/dist-packages (from gitpython!=3.1.19,<4,>=3.0.7->streamlit>=1.35.0->streamlit_folium) (4.0.12)\n",
            "Requirement already satisfied: python-dateutil>=2.8.2 in /usr/local/lib/python3.11/dist-packages (from pandas<3,>=1.4.0->streamlit>=1.35.0->streamlit_folium) (2.9.0.post0)\n",
            "Requirement already satisfied: pytz>=2020.1 in /usr/local/lib/python3.11/dist-packages (from pandas<3,>=1.4.0->streamlit>=1.35.0->streamlit_folium) (2025.2)\n",
            "Requirement already satisfied: tzdata>=2022.7 in /usr/local/lib/python3.11/dist-packages (from pandas<3,>=1.4.0->streamlit>=1.35.0->streamlit_folium) (2025.2)\n",
            "Requirement already satisfied: charset-normalizer<4,>=2 in /usr/local/lib/python3.11/dist-packages (from requests->folium!=0.15.0,>=0.13->streamlit_folium) (3.4.1)\n",
            "Requirement already satisfied: idna<4,>=2.5 in /usr/local/lib/python3.11/dist-packages (from requests->folium!=0.15.0,>=0.13->streamlit_folium) (3.10)\n",
            "Requirement already satisfied: urllib3<3,>=1.21.1 in /usr/local/lib/python3.11/dist-packages (from requests->folium!=0.15.0,>=0.13->streamlit_folium) (2.4.0)\n",
            "Requirement already satisfied: certifi>=2017.4.17 in /usr/local/lib/python3.11/dist-packages (from requests->folium!=0.15.0,>=0.13->streamlit_folium) (2025.4.26)\n",
            "Requirement already satisfied: smmap<6,>=3.0.1 in /usr/local/lib/python3.11/dist-packages (from gitdb<5,>=4.0.1->gitpython!=3.1.19,<4,>=3.0.7->streamlit>=1.35.0->streamlit_folium) (5.0.2)\n",
            "Requirement already satisfied: attrs>=22.2.0 in /usr/local/lib/python3.11/dist-packages (from jsonschema>=3.0->altair<6,>=4.0->streamlit>=1.35.0->streamlit_folium) (25.3.0)\n",
            "Requirement already satisfied: jsonschema-specifications>=2023.03.6 in /usr/local/lib/python3.11/dist-packages (from jsonschema>=3.0->altair<6,>=4.0->streamlit>=1.35.0->streamlit_folium) (2025.4.1)\n",
            "Requirement already satisfied: referencing>=0.28.4 in /usr/local/lib/python3.11/dist-packages (from jsonschema>=3.0->altair<6,>=4.0->streamlit>=1.35.0->streamlit_folium) (0.36.2)\n",
            "Requirement already satisfied: rpds-py>=0.7.1 in /usr/local/lib/python3.11/dist-packages (from jsonschema>=3.0->altair<6,>=4.0->streamlit>=1.35.0->streamlit_folium) (0.24.0)\n",
            "Requirement already satisfied: six>=1.5 in /usr/local/lib/python3.11/dist-packages (from python-dateutil>=2.8.2->pandas<3,>=1.4.0->streamlit>=1.35.0->streamlit_folium) (1.17.0)\n",
            "Downloading streamlit_folium-0.25.0-py3-none-any.whl (328 kB)\n",
            "\u001b[2K   \u001b[90m━━━━━━━━━━━━━━━━━━━━━━━━━━━━━━━━━━━━━━━━\u001b[0m \u001b[32m328.4/328.4 kB\u001b[0m \u001b[31m4.0 MB/s\u001b[0m eta \u001b[36m0:00:00\u001b[0m\n",
            "\u001b[?25hInstalling collected packages: streamlit_folium\n",
            "Successfully installed streamlit_folium-0.25.0\n"
          ]
        }
      ]
    },
    {
      "cell_type": "code",
      "metadata": {
        "colab": {
          "base_uri": "https://localhost:8080/"
        },
        "id": "keqkFOcZqbwh",
        "outputId": "4f851d93-6c2f-423f-ad7e-987a5396b943"
      },
      "source": [
        "!ngrok authtoken 1t9O59m350kzw0iHZum6DhCJWVv_3haTpNavATH2Z7oG1KfPK"
      ],
      "execution_count": null,
      "outputs": [
        {
          "output_type": "stream",
          "name": "stdout",
          "text": [
            "/bin/bash: line 1: ngrok: command not found\n"
          ]
        }
      ]
    },
    {
      "cell_type": "code",
      "metadata": {
        "id": "fd9LUpQiqneu",
        "colab": {
          "base_uri": "https://localhost:8080/"
        },
        "outputId": "60d8f597-546d-4e61-af6d-9870f513686e"
      },
      "source": [
        "!pip install pyngrok==4.1.1"
      ],
      "execution_count": null,
      "outputs": [
        {
          "output_type": "stream",
          "name": "stdout",
          "text": [
            "Collecting pyngrok==4.1.1\n",
            "  Downloading pyngrok-4.1.1.tar.gz (18 kB)\n",
            "  Preparing metadata (setup.py) ... \u001b[?25l\u001b[?25hdone\n",
            "Requirement already satisfied: future in /usr/local/lib/python3.11/dist-packages (from pyngrok==4.1.1) (1.0.0)\n",
            "Requirement already satisfied: PyYAML in /usr/local/lib/python3.11/dist-packages (from pyngrok==4.1.1) (6.0.2)\n",
            "Building wheels for collected packages: pyngrok\n",
            "  Building wheel for pyngrok (setup.py) ... \u001b[?25l\u001b[?25hdone\n",
            "  Created wheel for pyngrok: filename=pyngrok-4.1.1-py3-none-any.whl size=15963 sha256=85f00d3158cf7da24da34b28eb06979720cff903e160ef9a5b77e2a6cf5140fe\n",
            "  Stored in directory: /root/.cache/pip/wheels/f4/e2/28/275496a22cb15fb495458aed2b164b4ccaa10e2f44188fb0b9\n",
            "Successfully built pyngrok\n",
            "Installing collected packages: pyngrok\n",
            "Successfully installed pyngrok-4.1.1\n"
          ]
        }
      ]
    },
    {
      "cell_type": "code",
      "metadata": {
        "colab": {
          "base_uri": "https://localhost:8080/"
        },
        "id": "6XwifzNiplcg",
        "outputId": "7f2bda20-8551-4338-b102-24a9fdb0c9af"
      },
      "source": [
        "%%writefile app.py\n",
        "import streamlit as st\n",
        "from streamlit_folium import folium_static\n",
        "import json\n",
        "import folium\n",
        "import numpy as np\n",
        "import requests\n",
        "import mimetypes\n",
        "import http.client\n",
        "import pandas as pd\n",
        "from folium.plugins import HeatMap\n",
        "from pandas.io.json import json_normalize\n",
        "import plotly\n",
        "import plotly.express as px\n",
        "import streamlit as st\n",
        "import numpy as np\n",
        "import pandas as pd\n",
        "import altair as alt\n",
        "import matplotlib.pyplot as plt\n",
        "import seaborn as sns\n",
        "import plotly.graph_objects as go\n",
        "from plotly.offline import init_notebook_mode,iplot, plot\n",
        "import os\n",
        "import pyarrow\n",
        "\n",
        "st.markdown(\"<h1 style='text-align: center; color: #ff634d;'><strong><u>Covid-19 Dashboard</u></strong></h1>\", unsafe_allow_html=True)\n",
        "st.sidebar.markdown(\"<h1 style='text-align: center; color: #aaccee;'><strong><u>Covid-19 Dashboard</u></strong></h1>\", unsafe_allow_html=True)\n",
        "\n",
        "st.markdown(\"This Web App is a live Covid-19 Dashboard which access Data sourced from Johns Hopkins CSSE\", unsafe_allow_html=True)\n",
        "\n",
        "\n",
        "\n",
        "\n",
        "def main():\n",
        "\n",
        "  conn = http.client.HTTPSConnection(\"api.covid19api.com\")\n",
        "  payload =''\n",
        "  headers={}\n",
        "  conn.request(\"GET\",\"/summary\",payload,headers)\n",
        "  res = conn.getresponse()\n",
        "  data=res.read().decode('UTF-8')\n",
        "  covid = json.loads(data)\n",
        "\n",
        "\n",
        "  df=pd.DataFrame(covid['Countries'])\n",
        "\n",
        "  covid1=df.drop(columns=['CountryCode','Slug','Date','Premium'],axis=1)\n",
        "  covid1['ActiveCases'] = covid1['TotalConfirmed']-covid1['TotalRecovered']\n",
        "  covid1['ActiveCases'] = covid1['ActiveCases']-covid1['TotalDeaths']\n",
        "\n",
        "\n",
        "  st.markdown(\"COVID-19 NUMBERS ACROSS THE GLOBE\", unsafe_allow_html=True)\n",
        "  dfn=covid1.drop(['NewConfirmed','NewDeaths','NewRecovered'],axis=1)\n",
        "  dfn = dfn.groupby('Country')['TotalConfirmed','TotalDeaths','TotalRecovered','ActiveCases'].sum().sort_values(by='TotalConfirmed',ascending=False)\n",
        "  dfn.style.background_gradient(cmap='Oranges')\n",
        "\n",
        "  dfc = covid1.groupby('Country')['TotalConfirmed','TotalDeaths','TotalRecovered','ActiveCases'].max().sort_values(by='TotalConfirmed',ascending=False).reset_index()\n",
        "\n",
        "  m = folium.Map(tiles='Stamen Terrain',min_zoom=1.5)\n",
        "  url='https://raw.githubusercontent.com/python-visualization/folium/master/examples/data'\n",
        "  country_shapes = f'{url}/world-countries.json'\n",
        "  folium.Choropleth(\n",
        "  geo_data=country_shapes,\n",
        "  min_zoom=2,\n",
        "  name='Covid-19',\n",
        "  data=covid1,\n",
        "  columns=['Country','TotalConfirmed'],\n",
        "  key_on='feature.properties.name',\n",
        "  fill_color='YlOrRd',\n",
        "  nan_fill_color='black',\n",
        "  legend_name='Total Confirmed Cases',).add_to(m)\n",
        "\n",
        "  m1 = folium.Map(tiles='Stamen Terrain',min_zoom=1.5)\n",
        "  url='https://raw.githubusercontent.com/python-visualization/folium/master/examples/data'\n",
        "  country_shapes = f'{url}/world-countries.json'\n",
        "  folium.Choropleth(\n",
        "  geo_data=country_shapes,\n",
        "  min_zoom=2,\n",
        "  name='Covid-19',\n",
        "  data=covid1,\n",
        "  columns=['Country','TotalRecovered'],\n",
        "  key_on='feature.properties.name',\n",
        "  fill_color='YlOrRd',\n",
        "  nan_fill_color='black',\n",
        "  legend_name='Total Recovered Cases',).add_to(m1)\n",
        "\n",
        "  m4 = folium.Map(tiles='Stamen Terrain',min_zoom=1.5)\n",
        "  url='https://raw.githubusercontent.com/python-visualization/folium/master/examples/data'\n",
        "  country_shapes = f'{url}/world-countries.json'\n",
        "  folium.Choropleth(\n",
        "  geo_data=country_shapes,\n",
        "  min_zoom=2,\n",
        "  name='Covid-19',\n",
        "  data=covid1,\n",
        "  columns=['Country','ActiveCases'],\n",
        "  key_on='feature.properties.name',\n",
        "  fill_color='YlOrRd',\n",
        "  nan_fill_color='black',\n",
        "  legend_name='Active Cases',).add_to(m4)\n",
        "\n",
        "\n",
        "  coordinates = pd.read_csv('https://raw.githubusercontent.com/VinitaSilaparasetty/covid-map/master/country-coordinates-world.csv')\n",
        "  covid_final = pd.merge(covid1,coordinates,on='Country')\n",
        "\n",
        "  dfn\n",
        "  confirmed_tot = int(dfc['TotalConfirmed'].sum())\n",
        "  deaths_tot = int(dfc['TotalDeaths'].sum())\n",
        "  recovered_tot = int(dfc['TotalRecovered'].sum())\n",
        "  active_tot = int(dfc['ActiveCases'].sum())\n",
        "\n",
        "\n",
        "  st.markdown(\"WORLD COVID-19 STATS\", unsafe_allow_html=True)\n",
        "\n",
        "  st.write('TOTAL CONFIRMED CASES FROM ALL OVER THE WORLD - ',confirmed_tot)\n",
        "  st.write('TOTAL DEATH CASES FROM ALL OVER THE WORLD - ',deaths_tot)\n",
        "  st.write('TOTAL RECOVERED CASES FROM ALL OVER THE WORLD - ',recovered_tot)\n",
        "  st.write('TOTAL ACTIVE CASES FROM ALL OVER THE WORLD - ',active_tot)\n",
        "\n",
        "\n",
        "\n",
        "\n",
        "  st.sidebar.subheader('Analysis through Map - Folium')\n",
        "\n",
        "  select = st.sidebar.selectbox('Choose Map Type',['Confirmed Cases','Recovered Cases','Active Cases','Deaths'],key='1')\n",
        "\n",
        "\n",
        "  if not st.sidebar.checkbox(\"Hide Map\",True):\n",
        "\n",
        "      if select == \"Confirmed Cases\":\n",
        "        folium_static(m)\n",
        "      elif select == \"Recovered Cases\":\n",
        "        folium_static(m1)\n",
        "      elif select == \"Active Cases\":\n",
        "        folium_static(m4)\n",
        "      else:\n",
        "          m2 = folium.Map(tiles='StamenToner',min_zoom=1.5)\n",
        "          deaths=covid_final['TotalDeaths'].astype(float)\n",
        "          lat=covid_final['latitude'].astype(float)\n",
        "          long=covid_final['longitude'].astype(float)\n",
        "\n",
        "          m2.add_child(HeatMap(zip(lat,long,deaths),radius=0))\n",
        "          folium_static(m2)\n",
        "\n",
        "  st.sidebar.subheader('Analysis through Bar Chart - Plotly')\n",
        "\n",
        "  select = st.sidebar.selectbox('Choose Bar Chart',['Confirmed Cases','Recovered Cases','Active Cases','Deaths'],key='2')\n",
        "\n",
        "\n",
        "\n",
        "  if not st.sidebar.checkbox(\"Hide Bar Chart\",True):\n",
        "      if select == \"Confirmed Cases\":\n",
        "          fig = px.bar(dfc.head(10), y='TotalConfirmed',x='Country',color='Country',height=400)\n",
        "          fig.update_layout(title='Comparison of Total Confirmed Cases of 10 Most Affected Countries',xaxis_title='Country',yaxis_title='Total Confirmed Case',template=\"plotly_dark\")\n",
        "          st.plotly_chart(fig)\n",
        "      elif select == \"Recovered Cases\":\n",
        "          fig = px.bar(dfc.head(10), y='TotalRecovered',x='Country',color='Country',height=400)\n",
        "          fig.update_layout(title='Comparison of Total Recovered of 10 Most Affected Countries',xaxis_title='Country',yaxis_title='Total Recovered',template=\"plotly_dark\")\n",
        "          st.plotly_chart(fig)\n",
        "      elif select == \"Active Cases\":\n",
        "          fig = px.bar(dfc.head(10), y='ActiveCases',x='Country',color='Country',height=400)\n",
        "          fig.update_layout(title='Comparison of Active Cases of 10 Most Affected Countries',xaxis_title='Country',yaxis_title='Total Recovered',template=\"plotly_dark\")\n",
        "          st.plotly_chart(fig)\n",
        "      else:\n",
        "          fig = px.bar(dfc.head(10), y='TotalDeaths',x='Country',color='Country',height=400)\n",
        "          fig.update_layout(title='Comparison of Total Deaths of 10 Most Affected Countries',xaxis_title='Country',yaxis_title='Total Deaths',template=\"plotly_dark\")\n",
        "          st.plotly_chart(fig)\n",
        "\n",
        "\n",
        "  st.sidebar.subheader('Analysis through 3D Plot')\n",
        "\n",
        "  if not st.sidebar.checkbox(\"Hide 3D plot\",True):\n",
        "\n",
        "      fig = px.scatter_3d(dfc.head(10), x='TotalConfirmed', y='TotalDeaths', z='TotalRecovered',\n",
        "              color='Country')\n",
        "      fig.update_layout(title='3D Plot of Total Cases, Total Deaths and Total Recovered of Top 10 Affected Countries')\n",
        "      st.plotly_chart(fig)\n",
        "\n",
        "  if st.sidebar.checkbox(\"Show Raw Data\",False):\n",
        "      st.subheader(\"Covid 19 Data\")\n",
        "      st.write(covid1)\n",
        "\n",
        "def load_data():\n",
        "    covid19 = pd.read_csv('https://covid.ourworldindata.org/data/owid-covid-data.csv', encoding='ISO-8859-1',thousands='.', decimal=',', engine='python')\n",
        "    covid19['date'] = pd.to_datetime(covid19['date'],format = '%Y-%m-%d')\n",
        "    return covid19\n",
        "covid19 = load_data()\n",
        "\n",
        "\n",
        "###################################################################################\n",
        "\n",
        "covid19['new_tests'] = covid19['new_tests'].replace(np.nan, '')\n",
        "covid19['new_cases'] = covid19['new_cases'].replace(np.nan, '')\n",
        "covid19['new_deaths'] = covid19['new_deaths'].replace(np.nan, '')\n",
        "covid19['new_vaccinations'] = covid19['new_vaccinations'].replace(np.nan, '')\n",
        "covid19['total_cases'] = covid19['total_cases'].replace(np.nan, '')\n",
        "covid19['total_vaccinations'] = covid19['total_vaccinations'].replace(np.nan, '')\n",
        "covid19['people_fully_vaccinated'] = covid19['people_fully_vaccinated'].replace(np.nan, '')\n",
        "covid19['total_deaths'] = covid19['total_deaths'].replace(np.nan, '')\n",
        "\n",
        "\n",
        "#######################################################################################\n",
        "st.write('**Choose a country to Visualize COVID-19 numbers :**')\n",
        "\n",
        "country = st.selectbox(\"Choose a country\",covid19[\"location\"].unique())\n",
        "\n",
        "st.header(f\"Select the data of your interesse  to visualize for {country}\")\n",
        "daily = st.selectbox(\"Select the option\",('Total Cases', 'Total Deaths', 'Total Vaccinations'))\n",
        "typ = st.radio(\"Select the type of Chart\",(\"Line Chart\",\"Scatter Chart\"))\n",
        "\n",
        "\n",
        "vaccine = alt.Chart(covid19[covid19[\"location\"]==country]).encode(\n",
        "x=\"date\", y=\"new_vaccinations\", tooltip=[\"date:T\",\"location:N\",\"new_vaccinations:Q\"]).interactive()\n",
        "\n",
        "t_cases = alt.Chart(covid19[covid19[\"location\"]==country]).encode(\n",
        "x=\"date\",y=\"total_cases\",tooltip=[\"date:T\",\"location:N\",\"total_cases:Q\"]).interactive()\n",
        "\n",
        "t_deaths = alt.Chart(covid19[covid19[\"location\"]==country]).encode(\n",
        "x=\"date\",y=\"total_deaths\",tooltip=[\"date:T\",\"location:N\",\"total_deaths:Q\"]).interactive()\n",
        "\n",
        "t_vaccinations = alt.Chart(covid19[covid19[\"location\"]==country]).encode(\n",
        "x=\"date\",y=\"total_vaccinations\",tooltip=[\"date:T\",\"location:N\",\"total_vaccinations:Q\"]).interactive()\n",
        "\n",
        "cases= alt.Chart(covid19[covid19[\"location\"]==country],title=\"Scatter Chart\",width=800,height=600).mark_circle(color='green').encode(\n",
        "x =\"date\",\n",
        "y =\"total_cases\",\n",
        "size =\"total_deaths\",\n",
        "color =\"total_vaccinations\",\n",
        "tooltip=[\"date:T\",\"location:N\", \"total_cases:Q\",\"total_deaths:Q\",\"total_vaccinations:Q\"]\n",
        ").interactive()\n",
        "\n",
        "\n",
        "\n",
        "if daily =='Daily New Cases':\n",
        "  if typ == 'Line Chart':\n",
        "    st.altair_chart(new_cases.mark_line(color='firebrick'))\n",
        "  else:\n",
        "    st.altair_chart(new_cases.mark_circle(color='firebrick'))\n",
        "elif daily =='Total Vaccinations':\n",
        "  if typ == 'Line Chart':\n",
        "    st.altair_chart(t_vaccinations.mark_line(color='green'))\n",
        "  else:\n",
        "    st.altair_chart(t_vaccinations.mark_circle(color='green'))\n",
        "elif daily =='Daily New Deaths':\n",
        "  if typ == 'Line Chart':\n",
        "    st.altair_chart(new_deaths.mark_line(color='purple'))\n",
        "  else:\n",
        "    st.altair_chart(new_deaths.mark_circle(color='purple'))\n",
        "elif daily =='Total Deaths':\n",
        "  if typ == 'Line Chart':\n",
        "    st.altair_chart(t_deaths.mark_line(color='yellow'))\n",
        "  else:\n",
        "    st.altair_chart(t_deaths.mark_circle(color='yellow'))\n",
        "elif daily =='Total Cases':\n",
        "  if typ == 'Line Chart':\n",
        "    st.altair_chart(t_cases.mark_line(color='orange'))\n",
        "  else:\n",
        "    st.altair_chart(t_cases.mark_circle(color='orange'))\n",
        "elif daily =='New Tests':\n",
        "  if typ == 'Line Chart':\n",
        "    st.altair_chart(new_tests.mark_line(color='red'))\n",
        "  else:\n",
        "    st.altair_chart(new_tests.mark_circle(color='red'))\n",
        "\n",
        "if __name__ == '__main__':\n",
        "    main()"
      ],
      "execution_count": null,
      "outputs": [
        {
          "output_type": "stream",
          "name": "stdout",
          "text": [
            "Overwriting app.py\n"
          ]
        }
      ]
    },
    {
      "cell_type": "code",
      "metadata": {
        "colab": {
          "base_uri": "https://localhost:8080/"
        },
        "id": "yqaP0rdzfaLi",
        "outputId": "a63e945b-bc2c-4897-96a9-cfe3297ed305"
      },
      "source": [
        "!nohup streamlit run app.py &"
      ],
      "execution_count": null,
      "outputs": [
        {
          "output_type": "stream",
          "name": "stdout",
          "text": [
            "nohup: appending output to 'nohup.out'\n"
          ]
        }
      ]
    },
    {
      "cell_type": "code",
      "metadata": {
        "colab": {
          "base_uri": "https://localhost:8080/",
          "height": 706
        },
        "id": "ttFAN8dUqvWD",
        "outputId": "a2adb709-9e83-46a6-9687-538daf2acb31"
      },
      "source": [
        "from pyngrok import ngrok\n",
        "url = ngrok.connect(port=8501)\n",
        "url"
      ],
      "execution_count": null,
      "outputs": [
        {
          "output_type": "stream",
          "name": "stdout",
          "text": []
        },
        {
          "output_type": "stream",
          "name": "stderr",
          "text": [
            "ERROR:pyngrok.process:t=2025-05-11T04:31:06+0000 lvl=eror msg=\"failed to auth\" obj=tunnels.session err=\"Usage of ngrok requires a verified account and authtoken.\\n\\nSign up for an account: https://dashboard.ngrok.com/signup\\nInstall your authtoken: https://dashboard.ngrok.com/get-started/your-authtoken\\r\\n\\r\\nERR_NGROK_4018\\r\\n\"\n",
            "\n"
          ]
        },
        {
          "output_type": "error",
          "ename": "PyngrokNgrokError",
          "evalue": "The ngrok process errored on start: Usage of ngrok requires a verified account and authtoken.\\n\\nSign up for an account: https://dashboard.ngrok.com/signup\\nInstall your authtoken: https://dashboard.ngrok.com/get-started/your-authtoken\\r\\n\\r\\nERR_NGROK_4018\\r\\n.",
          "traceback": [
            "\u001b[0;31m---------------------------------------------------------------------------\u001b[0m",
            "\u001b[0;31mPyngrokNgrokError\u001b[0m                         Traceback (most recent call last)",
            "\u001b[0;32m<ipython-input-9-50671381cf3c>\u001b[0m in \u001b[0;36m<cell line: 0>\u001b[0;34m()\u001b[0m\n\u001b[1;32m      1\u001b[0m \u001b[0;32mfrom\u001b[0m \u001b[0mpyngrok\u001b[0m \u001b[0;32mimport\u001b[0m \u001b[0mngrok\u001b[0m\u001b[0;34m\u001b[0m\u001b[0;34m\u001b[0m\u001b[0m\n\u001b[0;32m----> 2\u001b[0;31m \u001b[0murl\u001b[0m \u001b[0;34m=\u001b[0m \u001b[0mngrok\u001b[0m\u001b[0;34m.\u001b[0m\u001b[0mconnect\u001b[0m\u001b[0;34m(\u001b[0m\u001b[0mport\u001b[0m\u001b[0;34m=\u001b[0m\u001b[0;36m8501\u001b[0m\u001b[0;34m)\u001b[0m\u001b[0;34m\u001b[0m\u001b[0;34m\u001b[0m\u001b[0m\n\u001b[0m\u001b[1;32m      3\u001b[0m \u001b[0murl\u001b[0m\u001b[0;34m\u001b[0m\u001b[0;34m\u001b[0m\u001b[0m\n",
            "\u001b[0;32m/usr/local/lib/python3.11/dist-packages/pyngrok/ngrok.py\u001b[0m in \u001b[0;36mconnect\u001b[0;34m(port, proto, name, options, pyngrok_config)\u001b[0m\n\u001b[1;32m    167\u001b[0m     \u001b[0moptions\u001b[0m\u001b[0;34m.\u001b[0m\u001b[0mupdate\u001b[0m\u001b[0;34m(\u001b[0m\u001b[0mconfig\u001b[0m\u001b[0;34m)\u001b[0m\u001b[0;34m\u001b[0m\u001b[0;34m\u001b[0m\u001b[0m\n\u001b[1;32m    168\u001b[0m \u001b[0;34m\u001b[0m\u001b[0m\n\u001b[0;32m--> 169\u001b[0;31m     \u001b[0mapi_url\u001b[0m \u001b[0;34m=\u001b[0m \u001b[0mget_ngrok_process\u001b[0m\u001b[0;34m(\u001b[0m\u001b[0mpyngrok_config\u001b[0m\u001b[0;34m)\u001b[0m\u001b[0;34m.\u001b[0m\u001b[0mapi_url\u001b[0m\u001b[0;34m\u001b[0m\u001b[0;34m\u001b[0m\u001b[0m\n\u001b[0m\u001b[1;32m    170\u001b[0m \u001b[0;34m\u001b[0m\u001b[0m\n\u001b[1;32m    171\u001b[0m     \u001b[0mlogger\u001b[0m\u001b[0;34m.\u001b[0m\u001b[0mdebug\u001b[0m\u001b[0;34m(\u001b[0m\u001b[0;34m\"Connecting tunnel with options: {}\"\u001b[0m\u001b[0;34m.\u001b[0m\u001b[0mformat\u001b[0m\u001b[0;34m(\u001b[0m\u001b[0moptions\u001b[0m\u001b[0;34m)\u001b[0m\u001b[0;34m)\u001b[0m\u001b[0;34m\u001b[0m\u001b[0;34m\u001b[0m\u001b[0m\n",
            "\u001b[0;32m/usr/local/lib/python3.11/dist-packages/pyngrok/ngrok.py\u001b[0m in \u001b[0;36mget_ngrok_process\u001b[0;34m(pyngrok_config)\u001b[0m\n\u001b[1;32m    127\u001b[0m     \u001b[0mensure_ngrok_installed\u001b[0m\u001b[0;34m(\u001b[0m\u001b[0mpyngrok_config\u001b[0m\u001b[0;34m.\u001b[0m\u001b[0mngrok_path\u001b[0m\u001b[0;34m)\u001b[0m\u001b[0;34m\u001b[0m\u001b[0;34m\u001b[0m\u001b[0m\n\u001b[1;32m    128\u001b[0m \u001b[0;34m\u001b[0m\u001b[0m\n\u001b[0;32m--> 129\u001b[0;31m     \u001b[0;32mreturn\u001b[0m \u001b[0mprocess\u001b[0m\u001b[0;34m.\u001b[0m\u001b[0mget_process\u001b[0m\u001b[0;34m(\u001b[0m\u001b[0mpyngrok_config\u001b[0m\u001b[0;34m)\u001b[0m\u001b[0;34m\u001b[0m\u001b[0;34m\u001b[0m\u001b[0m\n\u001b[0m\u001b[1;32m    130\u001b[0m \u001b[0;34m\u001b[0m\u001b[0m\n\u001b[1;32m    131\u001b[0m \u001b[0;34m\u001b[0m\u001b[0m\n",
            "\u001b[0;32m/usr/local/lib/python3.11/dist-packages/pyngrok/process.py\u001b[0m in \u001b[0;36mget_process\u001b[0;34m(pyngrok_config)\u001b[0m\n\u001b[1;32m    269\u001b[0m             \u001b[0m_current_processes\u001b[0m\u001b[0;34m.\u001b[0m\u001b[0mpop\u001b[0m\u001b[0;34m(\u001b[0m\u001b[0mpyngrok_config\u001b[0m\u001b[0;34m.\u001b[0m\u001b[0mngrok_path\u001b[0m\u001b[0;34m,\u001b[0m \u001b[0;32mNone\u001b[0m\u001b[0;34m)\u001b[0m\u001b[0;34m\u001b[0m\u001b[0;34m\u001b[0m\u001b[0m\n\u001b[1;32m    270\u001b[0m \u001b[0;34m\u001b[0m\u001b[0m\n\u001b[0;32m--> 271\u001b[0;31m     \u001b[0;32mreturn\u001b[0m \u001b[0m_start_process\u001b[0m\u001b[0;34m(\u001b[0m\u001b[0mpyngrok_config\u001b[0m\u001b[0;34m)\u001b[0m\u001b[0;34m\u001b[0m\u001b[0;34m\u001b[0m\u001b[0m\n\u001b[0m\u001b[1;32m    272\u001b[0m \u001b[0;34m\u001b[0m\u001b[0m\n\u001b[1;32m    273\u001b[0m \u001b[0;34m\u001b[0m\u001b[0m\n",
            "\u001b[0;32m/usr/local/lib/python3.11/dist-packages/pyngrok/process.py\u001b[0m in \u001b[0;36m_start_process\u001b[0;34m(pyngrok_config)\u001b[0m\n\u001b[1;32m    402\u001b[0m \u001b[0;34m\u001b[0m\u001b[0m\n\u001b[1;32m    403\u001b[0m         \u001b[0;32mif\u001b[0m \u001b[0mngrok_process\u001b[0m\u001b[0;34m.\u001b[0m\u001b[0mstartup_error\u001b[0m \u001b[0;32mis\u001b[0m \u001b[0;32mnot\u001b[0m \u001b[0;32mNone\u001b[0m\u001b[0;34m:\u001b[0m\u001b[0;34m\u001b[0m\u001b[0;34m\u001b[0m\u001b[0m\n\u001b[0;32m--> 404\u001b[0;31m             raise PyngrokNgrokError(\"The ngrok process errored on start: {}.\".format(ngrok_process.startup_error),\n\u001b[0m\u001b[1;32m    405\u001b[0m                                     \u001b[0mngrok_process\u001b[0m\u001b[0;34m.\u001b[0m\u001b[0mlogs\u001b[0m\u001b[0;34m,\u001b[0m\u001b[0;34m\u001b[0m\u001b[0;34m\u001b[0m\u001b[0m\n\u001b[1;32m    406\u001b[0m                                     ngrok_process.startup_error)\n",
            "\u001b[0;31mPyngrokNgrokError\u001b[0m: The ngrok process errored on start: Usage of ngrok requires a verified account and authtoken.\\n\\nSign up for an account: https://dashboard.ngrok.com/signup\\nInstall your authtoken: https://dashboard.ngrok.com/get-started/your-authtoken\\r\\n\\r\\nERR_NGROK_4018\\r\\n."
          ]
        }
      ]
    },
    {
      "cell_type": "code",
      "metadata": {
        "id": "TXDVSO3WrT6j"
      },
      "source": [
        "ngrok.kill()"
      ],
      "execution_count": null,
      "outputs": []
    }
  ]
}